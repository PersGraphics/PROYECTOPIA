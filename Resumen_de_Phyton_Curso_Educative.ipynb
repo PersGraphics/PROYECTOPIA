{
  "nbformat": 4,
  "nbformat_minor": 0,
  "metadata": {
    "colab": {
      "provenance": [],
      "authorship_tag": "ABX9TyNE+i27vW3upX49hJAVljzp",
      "include_colab_link": true
    },
    "kernelspec": {
      "name": "python3",
      "display_name": "Python 3"
    },
    "language_info": {
      "name": "python"
    }
  },
  "cells": [
    {
      "cell_type": "markdown",
      "metadata": {
        "id": "view-in-github",
        "colab_type": "text"
      },
      "source": [
        "<a href=\"https://colab.research.google.com/github/PersGraphics/ProyectoPia/blob/main/Resumen_de_Phyton_Curso_Educative.ipynb\" target=\"_parent\"><img src=\"https://colab.research.google.com/assets/colab-badge.svg\" alt=\"Open In Colab\"/></a>"
      ]
    },
    {
      "cell_type": "markdown",
      "source": [
        "# **RESUMEN CURSO PHYTHON 3 DESDE 0**\n",
        "\n",
        "Phython es un lenguaje de alto nivel. Se va interpretando el codigo linea a linea durante su ejecución.\n",
        "\n",
        "Tiene una sintaxís facil, por lo que es ideal para aprender dicho lenguaje. Además de tener muchas utilidades desde el Big Data hasta aplicaciones web.\n",
        "\n",
        "A continuación, haremos unas pequeñas pruebas de código:\n",
        "\n"
      ],
      "metadata": {
        "id": "j-l0qI5T-Ixs"
      }
    },
    {
      "cell_type": "code",
      "source": [
        "\n",
        "print(20, \"to\", 10);\n",
        "print(20, \"and \", end=\"hi\");\n",
        "print(\" Pol \") # Comentario de prueba\n",
        "\"\"\" Otro manera de poner comentarios \"\"\"\n"
      ],
      "metadata": {
        "colab": {
          "base_uri": "https://localhost:8080/",
          "height": 70
        },
        "id": "q8T-Fnf7_mRB",
        "outputId": "f41c2826-a3f3-4f50-ae43-9ad88d67c67b"
      },
      "execution_count": null,
      "outputs": [
        {
          "output_type": "stream",
          "name": "stdout",
          "text": [
            "20 to 10\n",
            "20 and hi Pol \n"
          ]
        },
        {
          "output_type": "execute_result",
          "data": {
            "text/plain": [
              "' Otro manera de poner comentarios '"
            ],
            "application/vnd.google.colaboratory.intrinsic+json": {
              "type": "string"
            }
          },
          "metadata": {},
          "execution_count": 24
        }
      ]
    },
    {
      "cell_type": "markdown",
      "source": [
        "## **Tipo de datos y variables**\n",
        "\n",
        "Saber que tipo de dato es, define como se tratará y que valores puede contener\n",
        "\n",
        "A cualquier variable se le puede dar un valor, es importante saber que son mutables, es decir, se puede actualizar o reemplazar el valor de la variable\n",
        "\n",
        "Nomenclatura de las variables\n",
        "\n",
        "*   Se puede poner mayusculas o minusculas\n",
        "*   Se puede poner números (nunca primer caracter)\n",
        "*   Se puede poner _ (utilizar como espacio)\n",
        "*   Utilizar nombres con información útil\n",
        "\n",
        "## **Números**\n",
        "\n",
        "Tres tipos de numeros:\n",
        "\n",
        "*   Enteros: Números enteros positivos y negativos\n",
        "\n",
        "*   Punto flotante: (floats) Números decimales positivos o negativos\n",
        "\n",
        "*   Complejos: Formados por partel real y otra imaginaria. Se utiliza complex(). 1º valor, parte real;y 2º valor, parte imaginaria\n",
        "\n",
        "A continuacion algunos ejemplos:\n",
        "\n",
        "\n",
        "\n",
        "\n",
        "\n",
        "\n",
        "\n",
        "\n",
        "\n"
      ],
      "metadata": {
        "id": "7Av3VN0nBeIk"
      }
    },
    {
      "cell_type": "code",
      "source": [
        "num= -1000 \n",
        "print(num) # Ejemplo de número entero\n",
        "\n",
        "float_num= 2.113213\n",
        "print(float_num) # Ejemplo de numero de punto flotante\n",
        "\n",
        "num_complex = complex(0, 2)\n",
        "num_complex2 = complex (2, 0)\n",
        "print(num_complex)  # Ejemplo de numero complejo (se utiliza j, en otros lenguajes es i)\n",
        "print(num_complex2)"
      ],
      "metadata": {
        "colab": {
          "base_uri": "https://localhost:8080/"
        },
        "id": "Fxae3xFeFHIw",
        "outputId": "5848eb3b-3226-4ca7-e7c1-be9ddcfbb975"
      },
      "execution_count": null,
      "outputs": [
        {
          "output_type": "stream",
          "name": "stdout",
          "text": [
            "-1000\n",
            "2.113213\n",
            "2j\n",
            "(2+0j)\n"
          ]
        }
      ]
    },
    {
      "cell_type": "markdown",
      "source": [
        "## **Booleanos**\n",
        "\n",
        "Tipo de dato que nos permite solo dos valores: verdadero y falso (True / False). Este dato se utiliza para la logica de una expresion de nuestro código"
      ],
      "metadata": {
        "id": "xcG2BZgFGFyp"
      }
    },
    {
      "cell_type": "code",
      "source": [
        "ejemplo_boolean= True\n",
        "print(ejemplo_boolean) # Ejemplo valor Boleano"
      ],
      "metadata": {
        "colab": {
          "base_uri": "https://localhost:8080/"
        },
        "id": "zAIWxSiZGt1M",
        "outputId": "c407eed7-ff7a-4879-ff65-4ce366545cd3"
      },
      "execution_count": null,
      "outputs": [
        {
          "output_type": "stream",
          "name": "stdout",
          "text": [
            "True\n"
          ]
        }
      ]
    },
    {
      "cell_type": "markdown",
      "source": [
        "## **Strings**\n",
        "\n",
        "(Cadena) Tipo de dato que nos permite poner una cadena de caracteres (todo entre comillas).\n",
        "\n",
        "Un espacio en blanco se considera un caracter y si utilizamos comillas triples, se escribe en varias lineas.\n",
        "\n",
        "Con la función len() se puede averiguar la longitud de tu variable string.\n",
        "\n",
        "En una cadena string, cada caracter tiene un indice, siendo el primer caracter de indice 0, y asi sucesivamente (como los arrays)\n",
        "Para acceder a un caracter del string se pone la variable  y  [index]\n",
        "\n",
        "La indexación inversa, es lo mismo, nada más que empieza en el final del string y se utilizan indices negativos, ejemplo  [-3]\n",
        "\n",
        "No puedes cambiar el valor de una cadena cambiando un caracter, se puede cambiar el valor del string y por tanto tambien cambiará su id.\n"
      ],
      "metadata": {
        "id": "q1ImI7AzG-u5"
      }
    },
    {
      "cell_type": "code",
      "source": [
        "string=\"Star wars\"\n",
        "print(string); # Ejemplo de string\n",
        "\n",
        "multiples_strings= '''Hola \n",
        "y adios'''\n",
        "print(multiples_strings) # Ejemplo de saltos de line de triple comilla\n",
        "\n",
        "string=\"Star Wars II\" # 12 caracteres (contar espacion en blanco)\n",
        "print(len(string)); # Ejemplo de contador de caracteres\n",
        "\n",
        "\n",
        "\n"
      ],
      "metadata": {
        "colab": {
          "base_uri": "https://localhost:8080/",
          "height": 105
        },
        "id": "tvt8Acd8HdXF",
        "outputId": "aa79f947-bbc7-425e-f2bf-9b9852126d93"
      },
      "execution_count": null,
      "outputs": [
        {
          "output_type": "stream",
          "name": "stdout",
          "text": [
            "Star wars\n",
            "Hola \n",
            "y adios\n",
            "12\n"
          ]
        },
        {
          "output_type": "execute_result",
          "data": {
            "text/plain": [
              "''"
            ],
            "application/vnd.google.colaboratory.intrinsic+json": {
              "type": "string"
            }
          },
          "metadata": {},
          "execution_count": 36
        }
      ]
    },
    {
      "cell_type": "markdown",
      "source": [
        "## **Palabra \"none\" Nonetype**\n",
        "\n",
        "Es un tipo de dato que solo puede tener un valor: None\n",
        "* No es false\n",
        "* No es cadena vacía\n",
        "* No es 0"
      ],
      "metadata": {
        "id": "QoUCalRw68xt"
      }
    },
    {
      "cell_type": "code",
      "source": [
        "dato= None\n",
        "print(type(dato), dato) # Tipo none"
      ],
      "metadata": {
        "colab": {
          "base_uri": "https://localhost:8080/"
        },
        "id": "JkPyubGt7W-x",
        "outputId": "0edb63c0-f620-49bd-c47e-b9d0ba68b584"
      },
      "execution_count": null,
      "outputs": [
        {
          "output_type": "stream",
          "name": "stdout",
          "text": [
            "<class 'NoneType'> None\n"
          ]
        }
      ]
    },
    {
      "cell_type": "markdown",
      "source": [
        "## **Dividir string (subcadena)**\n",
        "\n",
        "Distribuir las cadenas usando sus indices (subcadena)\n",
        "* Start: El índice donde comienza la subcadena\n",
        "* End: El índice donde termina nuestra subcadena\n",
        "\n",
        "\n"
      ],
      "metadata": {
        "id": "yPibY9Wa8XD4"
      }
    },
    {
      "cell_type": "code",
      "source": [
        "cadena= \"Hola Mundo\"\n",
        "print(cadena[5:11]) # Empieza en indice 5 termina en indice 11"
      ],
      "metadata": {
        "colab": {
          "base_uri": "https://localhost:8080/"
        },
        "id": "nPryZSN99ACL",
        "outputId": "5fb00c2b-dea1-4c01-e7e3-9bcb4af7696f"
      },
      "execution_count": null,
      "outputs": [
        {
          "output_type": "stream",
          "name": "stdout",
          "text": [
            "Mundo\n"
          ]
        }
      ]
    },
    {
      "cell_type": "markdown",
      "source": [
        "Podemos crear una subcadena pudiendo omitir carecteres entre medias.\n",
        "Paso predeterminado es índice 1\n",
        "cadena[start:end:step] Step: Paso/Salto\n",
        "\n",
        "Tambien se puede hacer de manera reversa\n",
        "[5 : 13 : -3]"
      ],
      "metadata": {
        "id": "_WEHpLpz9e7t"
      }
    },
    {
      "cell_type": "code",
      "source": [
        "cadena= \"Hola Mundo y adios\"\n",
        "print(cadena[5:11:2]) # Empieza en indice 5 termina en indice 11, y da un salta cada 1 caracter\n",
        "\n",
        "print(cadena[15:2:-1]) # Reversible, el star y end se intercambian\n"
      ],
      "metadata": {
        "colab": {
          "base_uri": "https://localhost:8080/"
        },
        "id": "-Q98Q7Yh-Esg",
        "outputId": "5f2f1e7a-2d85-4ca5-9229-c1fe507ddb1b"
      },
      "execution_count": null,
      "outputs": [
        {
          "output_type": "stream",
          "name": "stdout",
          "text": [
            "Mno\n",
            "ida y odnuM a\n",
            "Hola Mundo y adios\n"
          ]
        }
      ]
    },
    {
      "cell_type": "markdown",
      "source": [
        "Tanto [end] como [start] son opcionales, es decir, lo puedes dejar vacio y será desde el principio de la cadena o hasta el final de la cadena"
      ],
      "metadata": {
        "id": "3gAKea2pAAkA"
      }
    },
    {
      "cell_type": "code",
      "source": [
        "cadena= \"Hola Mundo y adios\"\n",
        "print(cadena[5:]) # Empieza en indice 5 termina hasta el FINAL\n",
        "\n",
        "print(cadena[:5]) # Empieza en el PRIMER caracter y termina en el indice 5"
      ],
      "metadata": {
        "colab": {
          "base_uri": "https://localhost:8080/"
        },
        "id": "BWYUNUcAAVZM",
        "outputId": "89584901-b581-4313-a936-804e59291107"
      },
      "execution_count": null,
      "outputs": [
        {
          "output_type": "stream",
          "name": "stdout",
          "text": [
            "Mundo y adios\n",
            "Hola \n"
          ]
        }
      ]
    },
    {
      "cell_type": "markdown",
      "source": [
        "## **Formateo de string**\n",
        "\n",
        "* Insertar strings dentro de otro string (%s)\n",
        "* Insertar enteros dentro de un string (%i)\n",
        "* Insertar floats dentro de un string (%f)\n",
        "\n",
        "Operador comun %\n"
      ],
      "metadata": {
        "id": "Vcu6EPwZAwcJ"
      }
    },
    {
      "cell_type": "code",
      "source": [
        "cadena_repetir=\"Hola %s\" % \"mundo %s\" % cadena # %s String\n",
        "print(cadena_repetir)\n",
        "\n",
        "cadena_numeros=\"Son %i con %i\" % (2,1)  # $i Entero\n",
        "print(cadena_numeros)\n",
        "\n",
        "cadena_floats=\"Son %f y %.2f\" % (2.11, 1.118) # $f Float (añade decimales o redondea)\n",
        "print(cadena_floats)"
      ],
      "metadata": {
        "colab": {
          "base_uri": "https://localhost:8080/"
        },
        "id": "5-FKwenGBIKO",
        "outputId": "7ced40a7-915a-4bad-9639-b28719f08bde"
      },
      "execution_count": null,
      "outputs": [
        {
          "output_type": "stream",
          "name": "stdout",
          "text": [
            "Hola mundo Hola mundo\n",
            "Son 2 con 1\n",
            "Son 2.110000 y 1.12\n"
          ]
        }
      ]
    },
    {
      "cell_type": "markdown",
      "source": [
        "## **Operadores**\n",
        "\n",
        "Los operados sirven para hacer operaciones aritmeticas o logicas con los datos.\n",
        "\n",
        "Los 5 principales tipos de operadores son:\n",
        "* Operadores aritmeticos\n",
        "* Operadores de comparación\n",
        "* Operadores de asignación\n",
        "* Operadores lógicos\n",
        "* Operadores bit a bit"
      ],
      "metadata": {
        "id": "Epzh1sWsDjMw"
      }
    },
    {
      "cell_type": "markdown",
      "source": [
        "**OPERADORES ARITMÉTICOS**\n",
        "\n",
        "Ordenados por preferencia:\n",
        "* () Encapsula la operación\n",
        "* ** Exponente\n",
        "* %,*, /, // Módulo, multiplicación, división, divisón floor\n",
        "* +.- Suma, resta\n",
        "\n",
        "Si hay varios operadores, se harán por orden de **preferencia**\n"
      ],
      "metadata": {
        "id": "CmKx0XOsEMaa"
      }
    },
    {
      "cell_type": "code",
      "source": [
        "print(5+3) # suma\n",
        "\n",
        "print(4.11-7.11) # resta\n",
        "\n",
        "print(2*4) # multiplicación\n",
        "\n",
        "print(10/2) # division\n",
        "\n",
        "print(51//10) # division floor (redondea y elimina el sobrante)\n",
        "\n",
        "print(11%2) # modulo (te muestra el sobrante de la division)\n"
      ],
      "metadata": {
        "colab": {
          "base_uri": "https://localhost:8080/"
        },
        "id": "34_uWK4rE5vc",
        "outputId": "8c9479c0-536a-4390-d299-816783c8672f"
      },
      "execution_count": null,
      "outputs": [
        {
          "output_type": "stream",
          "name": "stdout",
          "text": [
            "8\n",
            "-3.0\n",
            "8\n",
            "5.0\n",
            "5\n",
            "1\n"
          ]
        }
      ]
    },
    {
      "cell_type": "markdown",
      "source": [
        "**OPERADORES DE COMPRACIÓN**\n",
        "\n",
        "Se utiliza para comparar valores matemáticos\n",
        "\n",
        "* .> Mas que\n",
        "* < Menos que\n",
        "* .>= mayor/igual que\n",
        "* <= menor/igual que\n",
        "* == igual a\n",
        "* != no es igual a\n",
        "* is - igual (identidad)\n",
        "* is not - no es igual (identidad)\n",
        "\n",
        "El resultado de una comparación es siempre un booleano\n",
        "Los comparadores de identidad comprueban que son el mismo objeto\n"
      ],
      "metadata": {
        "id": "jY_s4wWUIqE6"
      }
    },
    {
      "cell_type": "code",
      "source": [
        "numero = 10 # Ejemplos de algunos operadores de compareciones\n",
        "numero2= 5\n",
        "\n",
        "print(numero > numero2)\n",
        "\n",
        "print(numero == numero2)\n",
        "\n",
        "print(numero is not numero2) # Ambos tienen el mismo objeto"
      ],
      "metadata": {
        "colab": {
          "base_uri": "https://localhost:8080/"
        },
        "id": "Dc27nYXRJjVT",
        "outputId": "1e6046e8-7356-4114-b440-60c10f66ed9c"
      },
      "execution_count": null,
      "outputs": [
        {
          "output_type": "stream",
          "name": "stdout",
          "text": [
            "True\n",
            "False\n",
            "True\n"
          ]
        }
      ]
    },
    {
      "cell_type": "markdown",
      "source": [
        "**OPERADORES DE ASIGNACIÓN**\n",
        "\n",
        "Operados para asignar valores a una variable\n",
        "\n",
        "* = Asignar\n",
        "* += Agregar y asignar\n",
        "* -= Restar y asignar\n",
        "* *= Multiplica y asignar\n",
        "* /= Dividir y asignar\n",
        "* //= Dividir floor y asignar\n",
        "* **= Exporencial y asignar\n",
        "* %= Hacer módulo y asignar\n",
        "* |= O y asignar\n",
        "* &= Y y asignar\n",
        "* ^= xor y asignar\n",
        "* >>= Desplazamiento la derecha y asignacion (bits)\n",
        "* <<= Desplazamineto la izquierda y asignacion (bits)\n"
      ],
      "metadata": {
        "id": "iZVe1Nd_KSgk"
      }
    }
  ]
}